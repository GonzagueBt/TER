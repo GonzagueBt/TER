{
 "cells": [
  {
   "cell_type": "code",
   "execution_count": 3,
   "id": "soviet-orbit",
   "metadata": {},
   "outputs": [],
   "source": [
    "# Import du paquet PythonMIP et de toutes ses fonctionnalités\n",
    "from mip import *\n",
    "# Import du paquet time pour calculer le temps de résolution\n",
    "import time "
   ]
  },
  {
   "cell_type": "code",
   "execution_count": 20,
   "id": "changing-drawing",
   "metadata": {},
   "outputs": [],
   "source": [
    "def solve(data, instanceName, solutionFolder, L, K):\n",
    "    # Création du modèle vide \n",
    "    model = Model(name = \"MTZ-EAF\", sense = mip.MAXIMIZE, solver_name=\"CBC\")\n",
    "\n",
    "    # Création des variables y, u et t\n",
    "    y = [[model.add_var(name=\"y(\" + str(i) + \",\" + str(j) + \")\", var_type=BINARY) for i in range(data.A)] for j in range(data.A[i][1])]\n",
    "    for k in range(len(data.P)):\n",
    "        u = [[model.add_var(name=\"u(\" + str(k) + \",\" + str(i) +\",\"+ str(j) +\")\", var_type=BINARY) for i in range(data.A)] for j in range(data.A[i][1])]\n",
    "    t = [model.add_var(name=\"t(\" + str(i)  + \")\", lb=0, ub=(L-1) , var_type=CONTINUOUS) for i in range(data.V)]\n",
    "    \n",
    "    # Ajout de la fonction objectif au modèle\n",
    "    model += (xsum(data.cost[i][j]*y[i][j] for i in range(data.A) for j in range(data.A[i][1]))+ xsum(xsum(data.cost[i][j]*u[k][i][j] for i in range(data.A) for j in range(data.A[i][1]))for k in range (len(data.P))))"
   ]
  },
  {
   "cell_type": "code",
   "execution_count": null,
   "id": "chief-russian",
   "metadata": {},
   "outputs": [],
   "source": []
  }
 ],
 "metadata": {
  "kernelspec": {
   "display_name": "Python 3",
   "language": "python",
   "name": "python3"
  },
  "language_info": {
   "codemirror_mode": {
    "name": "ipython",
    "version": 3
   },
   "file_extension": ".py",
   "mimetype": "text/x-python",
   "name": "python",
   "nbconvert_exporter": "python",
   "pygments_lexer": "ipython3",
   "version": "3.9.2"
  }
 },
 "nbformat": 4,
 "nbformat_minor": 5
}
