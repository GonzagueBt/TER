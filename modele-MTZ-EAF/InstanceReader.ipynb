{
 "cells": [
  {
   "cell_type": "code",
   "execution_count": 1,
   "metadata": {},
   "outputs": [],
   "source": [
    "import xml.etree.ElementTree as ET\n",
    "import numpy as np\n",
    "import json"
   ]
  },
  {
   "cell_type": "code",
   "execution_count": 19,
   "metadata": {},
   "outputs": [],
   "source": [
    "class Data():\n",
    "    def __init__(self, P, num):\n",
    "        root_node = ET.parse('Datas/InstanceP='+P+'/Instance'+num+'.xml').getroot()\n",
    "        id_max=0\n",
    "        \n",
    "        #Calcul du nombre de pair, du nombre de donneur et de id_max\n",
    "        for donor in root_node.findall('entry'):\n",
    "            id=donor.attrib['donor_id']\n",
    "            if(int(id) > int(id_max)):\n",
    "                id_max=donor.attrib['donor_id']\n",
    "        print('id max : ', id_max)\n",
    "        print()\n",
    "        #Autre méthode utilisant le fichier json (ne fonctionne pas puisque le nombre de donneur n'est pas égale à nombre \n",
    "            #de patientsx110%, comme cela devrait l'être puisque 10% de donneur altruiste)\n",
    "        #with open('Datas/InstanceP='+str(50)+'/config.json') as json_data:\n",
    "            #data_dict = json.load(json_data)\n",
    "            #nb_paire=data_dict['patientsPerInstance']\n",
    "            #nb_donor= int(nb_paire*1.12)\n",
    "        \n",
    "        count=0\n",
    "        #initialisation tableau des couts des échanges, tableau des donneurs altruistes et des paires\n",
    "        cost = np.zeros((int(id_max)+1,int(id_max)+1)) #double tableau avec le cout de chaque échange\n",
    "        Index = np.zeros(int(id_max)+1) \n",
    "        altruist = [] # liste des donneurs altruistes\n",
    "        pair = [] # liste des paires\n",
    "        listExchange= [] # listes de tuples (les échanges entre paires et donneurs)\n",
    "        listDonor=[] # liste des donneurs\n",
    "        allPatient=[] #liste de listes des patients de chaque donneur\n",
    "        allDonors=np.zeros((int(id_max)+1,int(P)))\n",
    "        allDonorsInP=np.zeros((int(id_max)+1,int(P)))\n",
    "        \n",
    "        #parcous du fichier html et remplissage des tableaux\n",
    "        for donor in root_node.findall('entry'):\n",
    "            #### Get the value from the attribute 'donor_id'###\n",
    "            id = donor.attrib['donor_id']\n",
    "            listDonor.append(int(id))            \n",
    "            #print('id du donneur :',int(id))\n",
    "            Index[int(id)]=count\n",
    "            listpatients=[]\n",
    "            for exchange in donor.findall('matches/match'):\n",
    "                patient=exchange.find('recipient')\n",
    "                score=exchange.find('score')\n",
    "                if(patient.text!=None):\n",
    "                    cost[int(id)][int(patient.text)]=int(score.text)\n",
    "                #print('patient : '+ patient.text +' avec un score de ' + score.text)\n",
    "                arc= (int(id),int(patient.text))\n",
    "                listpatients.append(int(patient.text))\n",
    "                listExchange.append(arc)\n",
    "                ind = allDonors[int(patient.text)][0]+1\n",
    "                allDonors[int(patient.text)][int(ind)]=int(id)\n",
    "                allDonors[int(patient.text)][0]=allDonors[int(patient.text)][0]+1\n",
    "                \n",
    "                if(donor.find('altruistic')==None):\n",
    "                    pair.append(int(id))\n",
    "                    allDonorsInP[int(patient.text)][int(ind)]=int(id)\n",
    "                    allDonorsInP[int(patient.text)][0]=allDonors[int(patient.text)][0]+1\n",
    "                else : \n",
    "                    altruist.append(int(id))\n",
    "                \n",
    "            allPatient.append(listpatients)\n",
    "            count=count+1\n",
    "    \n",
    "        #print(\"liste des échanges : \",listExchange)\n",
    "        self.nb_pair=len(pair)\n",
    "        self.nb_donor=len(listDonor)\n",
    "        self.id_max=int(id_max)\n",
    "        self.cost=cost #un double tableau, le coût de l'arc u_ij se récupère en cost[i][j]\n",
    "        self.N=altruist #une liste contenant tous les donneurs seuls (ensemble N)\n",
    "        self.P=pair #une liste contenant toutes les paires (ensemble P)\n",
    "        self.V=listDonor #une liste conetenant tous les donneurs (ensemble V)\n",
    "        self.A=listExchange #une liste contenant tous les échanges (ensemble a : tous les arcs du graphe)\n",
    "        self.allPatients=allPatient #une listes de liste : la liste des patients comaptible pour chaque donneur\n",
    "        self.index=Index #pour un donneur i, index[i] retourne l'indice de i dans la liste allPatient : \n",
    "            # par exemple, pour le donneur id=12, la liste des patients compatible s'obtient pas allPatient[int(index[12])]\n",
    "        self.allDonors=allDonors #un double tableau : pour un patient i, allDonors[i] est un tableau avec tous les donneurs\n",
    "            #compatible avec 1. ATTENTION : allDonors[i][0]= le nombre de donneurs compatibles\n",
    "        self.allDonorsInP=allDonorsInP # idem mais avec uniquement les donneurs en paires\n",
    "        self.Instance=(P,num) #un tuple ou le premier élément contient le nombre de patient, et le 2ème le numéro de l'instance \n",
    "                                #(entre 0 et 5)"
   ]
  },
  {
   "cell_type": "code",
   "execution_count": 18,
   "metadata": {},
   "outputs": [
    {
     "name": "stdout",
     "output_type": "stream",
     "text": [
      "id max :  127\n",
      "\n",
      "[ 37.   1.  11.  19.  20.  23.  24.  26.  38.  40.  44.  45.  46.  47.\n",
      "  50.  51.  53.  57.  62.  67.  68.  70.  71.  74.  75.  86. 101. 102.\n",
      " 108. 110. 111. 113. 114. 115. 122. 123. 124. 126.   0.   0.   0.   0.\n",
      "   0.   0.   0.   0.   0.   0.   0.   0.]\n",
      "[ 34.   1.  11.  19.  20.  23.  24.  26.  38.  40.  44.  45.  46.  47.\n",
      "  50.  51.  53.  57.  62.  67.  68.  70.  71.  74.  75.  86. 101. 102.\n",
      " 108. 110. 111. 113. 114. 115.   0.   0.   0.   0.   0.   0.   0.   0.\n",
      "   0.   0.   0.   0.   0.   0.   0.   0.]\n"
     ]
    },
    {
     "data": {
      "text/plain": [
       "<__main__.Data at 0x106424fa0>"
      ]
     },
     "execution_count": 18,
     "metadata": {},
     "output_type": "execute_result"
    }
   ],
   "source": [
    "Data(str(50),str(0))"
   ]
  },
  {
   "cell_type": "code",
   "execution_count": null,
   "metadata": {},
   "outputs": [],
   "source": []
  },
  {
   "cell_type": "code",
   "execution_count": null,
   "metadata": {},
   "outputs": [],
   "source": []
  },
  {
   "cell_type": "code",
   "execution_count": null,
   "metadata": {},
   "outputs": [],
   "source": []
  },
  {
   "cell_type": "code",
   "execution_count": null,
   "metadata": {},
   "outputs": [],
   "source": []
  }
 ],
 "metadata": {
  "kernelspec": {
   "display_name": "Python 3",
   "language": "python",
   "name": "python3"
  },
  "language_info": {
   "codemirror_mode": {
    "name": "ipython",
    "version": 3
   },
   "file_extension": ".py",
   "mimetype": "text/x-python",
   "name": "python",
   "nbconvert_exporter": "python",
   "pygments_lexer": "ipython3",
   "version": "3.9.2"
  }
 },
 "nbformat": 4,
 "nbformat_minor": 4
}
