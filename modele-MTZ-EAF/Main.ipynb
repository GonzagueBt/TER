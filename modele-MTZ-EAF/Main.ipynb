{
 "cells": [
  {
   "cell_type": "code",
   "execution_count": 2,
   "id": "confirmed-robert",
   "metadata": {},
   "outputs": [
    {
     "name": "stdout",
     "output_type": "stream",
     "text": [
      "--Begin--\n",
      "Instance P50-0 with L=10 and K=10 in progress...\n",
      "--End--\n"
     ]
    }
   ],
   "source": [
    "import InstanceReader\n",
    "import Solver\n",
    "\n",
    "print(\"--Begin--\")\n",
    "for i in range(5):    \n",
    "    data = InstanceReader.Data(str(50),str(i))\n",
    "    Solver.solve(data,5,5)\n",
    "    data = InstanceReader.Data(str(100),str(i))\n",
    "    Solver.solve(data,10,10)\n",
    "    data = InstanceReader.Data(str(50),str(i))\n",
    "    Solver.solve(data,5,10)\n",
    "    data = InstanceReader.Data(str(50),str(i))\n",
    "    Solver.solve(data,10,5)\n",
    "print(\"--End--\")"
   ]
  },
  {
   "cell_type": "code",
   "execution_count": null,
   "id": "previous-balance",
   "metadata": {},
   "outputs": [],
   "source": []
  }
 ],
 "metadata": {
  "kernelspec": {
   "display_name": "Python 3",
   "language": "python",
   "name": "python3"
  },
  "language_info": {
   "codemirror_mode": {
    "name": "ipython",
    "version": 3
   },
   "file_extension": ".py",
   "mimetype": "text/x-python",
   "name": "python",
   "nbconvert_exporter": "python",
   "pygments_lexer": "ipython3",
   "version": "3.9.2"
  }
 },
 "nbformat": 4,
 "nbformat_minor": 5
}
