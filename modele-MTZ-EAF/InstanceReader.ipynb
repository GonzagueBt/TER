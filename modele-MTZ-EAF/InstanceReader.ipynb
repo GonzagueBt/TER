{
 "cells": [
  {
   "cell_type": "code",
   "execution_count": 4,
   "metadata": {},
   "outputs": [],
   "source": [
    "import xml.etree.ElementTree as ET\n",
    "import numpy as np\n",
    "import json"
   ]
  },
  {
   "cell_type": "code",
   "execution_count": 41,
   "metadata": {},
   "outputs": [],
   "source": [
    "class Data():\n",
    "    def __init__(self, P, num):\n",
    "        root_node = ET.parse('Datas/InstanceP='+P+'/Instance'+num+'.xml').getroot()\n",
    "        nb_pair=0\n",
    "        nb_donor=0\n",
    "        id_max=0\n",
    "        \n",
    "        #Calcul du nombre de pair, du nombre de donneur et de id_max\n",
    "        for donor in root_node.findall('entry'):\n",
    "            nb_donor=nb_donor+1\n",
    "            id=donor.attrib['donor_id']\n",
    "            if(int(id) > int(id_max)):\n",
    "                id_max=donor.attrib['donor_id']\n",
    "            if(donor.find('altruistic')==None):\n",
    "                nb_pair=nb_pair+1\n",
    "        print('nombre de pair : ',  nb_pair, ' ; nombre de donneur : ', nb_donor)\n",
    "        print('id max : ', id_max)\n",
    "        print()\n",
    "        #Autre méthode utilisant le fichier json (ne fonctionne puisque le nombre de donneurn'est pas égale à nombre de patients x \n",
    "            # x110%)\n",
    "        #with open('Datas/InstanceP='+str(50)+'/config.json') as json_data:\n",
    "            #data_dict = json.load(json_data)\n",
    "            #nb_paire=data_dict['patientsPerInstance']\n",
    "            #nb_donor= int(nb_paire*1.12)\n",
    "        \n",
    "        #initialisation tableau des couts des échanges, tableau des donneurs altruistes et des paires\n",
    "        cost = np.zeros((int(id_max)+1,int(id_max)+1))\n",
    "        altruist = np.zeros((int(id_max)+1,int(id_max)+1))\n",
    "        pair = np.zeros((int(id_max)+1,int(id_max)+1))\n",
    "        listDonor=[]\n",
    "        \n",
    "        #parcous du fichier html et remplissage des tableaux\n",
    "        for donor in root_node.findall('entry'):\n",
    "            #### Get the value from the attribute 'donor_id'###\n",
    "            id = donor.attrib['donor_id']\n",
    "            listDonor.append(id)\n",
    "            print('id du donneur :',int(id))\n",
    "            for exchange in donor.findall('matches/match'):\n",
    "                patient=exchange.find('recipient')\n",
    "                score=exchange.find('score')\n",
    "                if(patient.text!=None):\n",
    "                    cost[int(id)][int(patient.text)]=int(score.text)\n",
    "                #print('patient : '+ patient.text +' avec un score de ' + score.text)\n",
    "                if(donor.find('altruistic')!=None):\n",
    "                    altruist[int(id),int(patient.text)]=1\n",
    "                else : \n",
    "                    pair[int(id),int(patient.text)]=1\n",
    "                #print('le donneur est altruiste : ', altruist)\n",
    "        print(listDonor)\n",
    "        self.nb_pair=nb_pair\n",
    "        self.nb_donor=nb_donor\n",
    "        self.cost=cost\n",
    "        self.altruist=altruist\n",
    "        self.pair=pair\n",
    "        self.listDonor=listDonor"
   ]
  },
  {
   "cell_type": "code",
   "execution_count": 42,
   "metadata": {},
   "outputs": [
    {
     "name": "stdout",
     "output_type": "stream",
     "text": [
      "nombre de pair :  50  ; nombre de donneur :  56\n",
      "id max :  127\n",
      "\n",
      "id du donneur : 0\n",
      "id du donneur : 1\n",
      "id du donneur : 2\n",
      "id du donneur : 9\n",
      "id du donneur : 10\n",
      "id du donneur : 11\n",
      "id du donneur : 19\n",
      "id du donneur : 20\n",
      "id du donneur : 21\n",
      "id du donneur : 23\n",
      "id du donneur : 24\n",
      "id du donneur : 26\n",
      "id du donneur : 35\n",
      "id du donneur : 38\n",
      "id du donneur : 40\n",
      "id du donneur : 44\n",
      "id du donneur : 45\n",
      "id du donneur : 46\n",
      "id du donneur : 47\n",
      "id du donneur : 50\n",
      "id du donneur : 51\n",
      "id du donneur : 52\n",
      "id du donneur : 53\n",
      "id du donneur : 54\n",
      "id du donneur : 57\n",
      "id du donneur : 62\n",
      "id du donneur : 64\n",
      "id du donneur : 67\n",
      "id du donneur : 68\n",
      "id du donneur : 70\n",
      "id du donneur : 71\n",
      "id du donneur : 74\n",
      "id du donneur : 75\n",
      "id du donneur : 85\n",
      "id du donneur : 86\n",
      "id du donneur : 90\n",
      "id du donneur : 97\n",
      "id du donneur : 100\n",
      "id du donneur : 101\n",
      "id du donneur : 102\n",
      "id du donneur : 104\n",
      "id du donneur : 108\n",
      "id du donneur : 110\n",
      "id du donneur : 111\n",
      "id du donneur : 113\n",
      "id du donneur : 114\n",
      "id du donneur : 115\n",
      "id du donneur : 119\n",
      "id du donneur : 120\n",
      "id du donneur : 121\n",
      "id du donneur : 122\n",
      "id du donneur : 123\n",
      "id du donneur : 124\n",
      "id du donneur : 125\n",
      "id du donneur : 126\n",
      "id du donneur : 127\n",
      "['0', '1', '2', '9', '10', '11', '19', '20', '21', '23', '24', '26', '35', '38', '40', '44', '45', '46', '47', '50', '51', '52', '53', '54', '57', '62', '64', '67', '68', '70', '71', '74', '75', '85', '86', '90', '97', '100', '101', '102', '104', '108', '110', '111', '113', '114', '115', '119', '120', '121', '122', '123', '124', '125', '126', '127']\n"
     ]
    },
    {
     "data": {
      "text/plain": [
       "<__main__.Data at 0x1193e7a60>"
      ]
     },
     "execution_count": 42,
     "metadata": {},
     "output_type": "execute_result"
    }
   ],
   "source": [
    "Data(str(50),str(0))"
   ]
  },
  {
   "cell_type": "code",
   "execution_count": null,
   "metadata": {},
   "outputs": [],
   "source": []
  }
 ],
 "metadata": {
  "kernelspec": {
   "display_name": "Python 3",
   "language": "python",
   "name": "python3"
  },
  "language_info": {
   "codemirror_mode": {
    "name": "ipython",
    "version": 3
   },
   "file_extension": ".py",
   "mimetype": "text/x-python",
   "name": "python",
   "nbconvert_exporter": "python",
   "pygments_lexer": "ipython3",
   "version": "3.9.2"
  }
 },
 "nbformat": 4,
 "nbformat_minor": 4
}
