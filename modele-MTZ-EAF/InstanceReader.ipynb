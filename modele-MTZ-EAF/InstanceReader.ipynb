{
 "cells": [
  {
   "cell_type": "code",
   "execution_count": 25,
   "metadata": {},
   "outputs": [],
   "source": [
    "import xml.etree.ElementTree as ET\n",
    "import numpy as np\n",
    "import json"
   ]
  },
  {
   "cell_type": "code",
   "execution_count": 172,
   "metadata": {},
   "outputs": [],
   "source": [
    "class Data():\n",
    "    def __init__(self, P, numInst):\n",
    "        root_node = ET.parse('Datas/InstanceP='+str(P)+'/Instance'+str(numInst)+'.xml').getroot()\n",
    "        nb_pair=0\n",
    "        nb_donor=0\n",
    "        id_max=0\n",
    "        \n",
    "        #Calcul du nombre de pair, du nombre de donneur et de id_max\n",
    "        for donor in root_node.findall('entry'):\n",
    "            nb_donor=nb_donor+1\n",
    "            id=donor.attrib['donor_id']\n",
    "            if(int(id) > int(id_max)):\n",
    "                id_max=donor.attrib['donor_id']\n",
    "            if(donor.find('altruistic')==None):\n",
    "                nb_pair=nb_pair+1\n",
    "        print('nombre de pair : ',  nb_pair, ' ; nombre de donneur : ', nb_donor)\n",
    "        print('id max : ', id_max)\n",
    "        print()\n",
    "        #Autre méthode utilisant le fichier json (ne fonctionne puisque le nombre de donneurn'est pas égale à nombre de patients x \n",
    "            # x110%)\n",
    "        #with open('Datas/InstanceP='+str(50)+'/config.json') as json_data:\n",
    "            #data_dict = json.load(json_data)\n",
    "            #nb_paire=data_dict['patientsPerInstance']\n",
    "            #nb_donor= int(nb_paire*1.12)\n",
    "        \n",
    "        #initialisation tableau des couts des échanges, tableau des donneurs altruistes et des paires\n",
    "        cost = np.zeros((int(id_max)+1,int(id_max)+1))\n",
    "        altruist = np.zeros(int(id_max)+1,int(id_max)+1)\n",
    "        pair = np.zeros(int(id_max)+1,int(id_max)+1)\n",
    "        \n",
    "        #parcous du fichier html et remplissage des tableaux\n",
    "        for donor in root_node.findall('entry'):\n",
    "            #### Get the value from the attribute 'donor_id'###\n",
    "            id = donor.attrib['donor_id']\n",
    "            print('id du donneur :',int(id))\n",
    "            for exchange in donor.findall('matches/match'):\n",
    "                patient=exchange.find('recipient')\n",
    "                score=exchange.find('score')\n",
    "                if(patient.text!=None):\n",
    "                    cost[int(id)][int(patient.text)]=int(score.text)\n",
    "                #print('patient : '+ patient.text +' avec un score de ' + score.text)\n",
    "                if(donor.find('altruistic')!=None):\n",
    "                    altruist[int(id),int(patient)]=1\n",
    "                else : \n",
    "                    pair[int(id),int(patient)]=1\n",
    "                #print('le donneur est altruiste : ', altruist)\n",
    "        self.nb_pair=nb_pair\n",
    "        self.nb_donor=nb_donor\n",
    "        self.cost=cost\n",
    "        self.altruist=altruist\n",
    "        self.pair=pair"
   ]
  },
  {
   "cell_type": "code",
   "execution_count": null,
   "metadata": {},
   "outputs": [],
   "source": []
  }
 ],
 "metadata": {
  "kernelspec": {
   "display_name": "Python 3",
   "language": "python",
   "name": "python3"
  },
  "language_info": {
   "codemirror_mode": {
    "name": "ipython",
    "version": 3
   },
   "file_extension": ".py",
   "mimetype": "text/x-python",
   "name": "python",
   "nbconvert_exporter": "python",
   "pygments_lexer": "ipython3",
   "version": "3.9.2"
  }
 },
 "nbformat": 4,
 "nbformat_minor": 4
}
