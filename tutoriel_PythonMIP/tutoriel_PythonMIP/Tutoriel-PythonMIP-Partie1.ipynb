{
 "cells": [
  {
   "cell_type": "markdown",
   "metadata": {},
   "source": [
    "# Tutoriel de prise en main de PythonMIP (partie 1)\n",
    "\n",
    "Dans ce notebook, on vous explique au travers d'un exemple notamment comment utiliser le paquet _PythonMIP_ pour résoudre des programmes linéaires (en nombres entiers). \n",
    "Ce paquet permet d'accéder au solveur libre Cbc et au solveur commercial Gurobi (par modificiation de la valeur d'un unique paramètre dans le code).\n"
   ]
  },
  {
   "cell_type": "markdown",
   "metadata": {},
   "source": [
    "## Entrer un programme linéaire simple\n",
    "\n",
    "Voyons comme résoudre le programme linéaire suivant : \n",
    "\n",
    "$$\\begin{array}{ll}\n",
    "\\text{Min} & -3x + y \\\\\n",
    "\\text{s.c.} & x+y=2 \\\\\n",
    "& 0 \\leq x \\leq 3 \\\\\n",
    "& y \\geq 0\n",
    "\\end{array}$$\n",
    "\n"
   ]
  },
  {
   "cell_type": "markdown",
   "metadata": {},
   "source": [
    "Il est d'abord nécessaire d'indiquer que le paquet _Pulp_ sera utilisé dans notre programme et donc de l'importer en exécutant la ligne suivante. "
   ]
  },
  {
   "cell_type": "code",
   "execution_count": null,
   "metadata": {},
   "outputs": [],
   "source": [
    "# Import du paquet PythonMIP et de toutes ses fonctionnalités\n",
    "from mip import *"
   ]
  },
  {
   "cell_type": "markdown",
   "metadata": {},
   "source": [
    "### Création et définition du modèle\n",
    "\n",
    "Avant d'indiquer les éléments constituant le modèle (variables, objectif et contraintes), il faut créer une instance de modèle (=problème). Cette instance sera donnée en paramètre à chaque fois qu'on lui ajoute un élément.\n",
    "\n",
    "Pour créer un modèle `model` en minimisation appelé \"Exemple\", on utilise la commande `prob = LpProblem(name = \"Exemple\", sense = LpMinimize)`.\n",
    "* Le paramètre `name` correspond au nom du modèle (problème).\n",
    "* Le paramètre `sense` correspond au sens de l'optimisation : minimisation (`mip.MINIMIZE`) ou maximisation (`mip.MAXIMIZE`).\n",
    "* Le paramètre `solver_name` correspond au sens du solveur utilisé : CBC (`CBC`) ou Gurobi (`GRB`). Pour Gurobi, ce dernier doit être installé sur votre machine et dans ce cas il faut aussi ajouter les lignes (`import gurobipy as gp` et `from gurobipy import GRB`)\n",
    "\n",
    "\n"
   ]
  },
  {
   "cell_type": "code",
   "execution_count": null,
   "metadata": {},
   "outputs": [],
   "source": [
    "# Création du modèle vide \n",
    "model = Model(name = \"Exemple\", sense = mip.MINIMIZE, solver_name=\"CBC\")"
   ]
  },
  {
   "cell_type": "markdown",
   "metadata": {},
   "source": [
    "Pour créer une variable `x` continue dont la valeur est comprise entre 0 et 3, on utilise la commande `x=model.add_var(name=\"x\",lb=0,ub=3,var_type=CONTINUOUS)`\n",
    "* Le paramètre `name` correspond au préfixe à ajouter au nom de la variable.\n",
    "* Le paramètre `lb` correspond à la valeur minimale pouvant être prise par la variable. La valeur par défaut (si on ne précise pas) est 0.\n",
    "* Le paramètre `ub` correspond à la valeur maximale pouvant être prise par la variable. La valeur par défaut (si on ne précise pas) est `INF` (aucune borne sur la valeur maximale possible / équivaut à +infini).\n",
    "* Le paramètre `var_type` correspond au type de la variable. Les valeurs possibles sont `CONTINUOUS` (variable continue),`INTEGER` (variable entière) ou `BINARY`(variable binaire). La valeur par défaut (si on ne précise pas) est `CONTINUOUS`.\n",
    "* Il est possible d'indiquer le coefficient de la variable dans la fonction objectif en utilisant le paramètre `obj`."
   ]
  },
  {
   "cell_type": "code",
   "execution_count": null,
   "metadata": {},
   "outputs": [],
   "source": [
    "# Création des variables x et y\n",
    "x = model.add_var(name=\"x\",lb=0,ub=3,var_type=CONTINUOUS)\n",
    "y = model.add_var(name=\"y\",lb=0,var_type=CONTINUOUS)\n",
    "\n",
    "#Si on souhaite indiquer directement la fonction objectif\n",
    "#x = model.add_var(name=\"x\",lb=0,ub=3,obj=-3,var_type=CONTINUOUS)\n",
    "#y = model.add_var(name=\"y\",lb=0,obj=1,var_type=CONTINUOUS)"
   ]
  },
  {
   "cell_type": "markdown",
   "metadata": {},
   "source": [
    "On ajoute ensuite la fonction objectif au modèle en affectant une valeur au champ ̀`model.objective`"
   ]
  },
  {
   "cell_type": "code",
   "execution_count": null,
   "metadata": {},
   "outputs": [],
   "source": [
    "# Ajout de la fonction objectif au modèle\n",
    "model.objective = minimize(-3*x + y)"
   ]
  },
  {
   "cell_type": "markdown",
   "metadata": {},
   "source": [
    "On ajoute ensuite les contraintes au modèle à la l'aide de la commande ̀`model+=`.\n",
    "* Pour une contrainte d'égalité, on utilise le symbole ̀`==`. Par exemple on ajoute la contrainte $x+y=2$ avec la commande `model += (x+y==2)`\n",
    "* Pour une contrainte d'inégalité <=, on utilise le symbole ̀`<=`. Par exemple on ajoute la contrainte $x+y\\leq 2$ avec la commande `model += (x+y<=2)`\n",
    "* Pour une contrainte d'inégalité >=, on utilise le symbole ̀`>=`. Par exemple on ajoute la contrainte $x+y\\geq 2$ avec la commande `model += (x+y>=2)`"
   ]
  },
  {
   "cell_type": "code",
   "execution_count": null,
   "metadata": {},
   "outputs": [],
   "source": [
    "# Ajout des contraintes au modèle\n",
    "model += (x+y==2)  # x+y = 2"
   ]
  },
  {
   "cell_type": "markdown",
   "metadata": {},
   "source": [
    "On peut écrire le modèle `model` que l'on a généré dans un fichier en utilisant la fonction `write`."
   ]
  },
  {
   "cell_type": "code",
   "execution_count": null,
   "metadata": {},
   "outputs": [],
   "source": [
    "# Ecrire le modèle dans un fichier\n",
    "model.write(\"exemple.lp\")"
   ]
  },
  {
   "cell_type": "markdown",
   "metadata": {},
   "source": [
    "## Résolution et affichage du résultat\n",
    "\n",
    "Il nous reste plus qu'à lancer la résolution de notre programme linéaire `model` en appelant la fonction `optimize` \n",
    "\n",
    "Il est possible d'ajouter un paramètre à la résolution :\n",
    "* Le paramètre `max_seconds` correspond au temps limite (en secondes). Si on ne souhaite pas de temps limite, il ne faut pas indiquer ce paramètre.\n",
    "\n",
    "Pour limiter le nombre de processeurs de votre machine pouvant être utilisé lors de la résolution (généralement 1), il faut modifier le champ `threads`de `model`. "
   ]
  },
  {
   "cell_type": "code",
   "execution_count": null,
   "metadata": {},
   "outputs": [],
   "source": [
    "# Limitation du nombre de processeurs\n",
    "model.threads = 1  \n",
    "# Résolution du modèle\n",
    "status = model.optimize(max_seconds=120)  # temps limite = 120s"
   ]
  },
  {
   "cell_type": "markdown",
   "metadata": {},
   "source": [
    "Il ne reste plus qu'à récupérer la solution obtenue (valeur des variables et de l'objectif) et à l'afficher.\n",
    "On accède à : \n",
    "* la valeur d'une variable `y` en tapant `y.x`\n",
    "* la valeur de la fonction objectif d'un modèle `objective_value`en tapant `model.objective_value`"
   ]
  },
  {
   "cell_type": "code",
   "execution_count": null,
   "metadata": {},
   "outputs": [],
   "source": [
    "# Affichage du résultat\n",
    "print(\"Valeur de la fonction objectif \", model.objective_value)\n",
    "print(\"x = \", x.x, \" y = \", y.x)\n"
   ]
  },
  {
   "cell_type": "markdown",
   "metadata": {},
   "source": [
    "## Bilan\n",
    "\n",
    "Nous avons vu comment entrer et résoudre un programme linéaire simple."
   ]
  }
 ],
 "metadata": {
  "kernelspec": {
   "display_name": "Python 3",
   "language": "python",
   "name": "python3"
  },
  "language_info": {
   "codemirror_mode": {
    "name": "ipython",
    "version": 3
   },
   "file_extension": ".py",
   "mimetype": "text/x-python",
   "name": "python",
   "nbconvert_exporter": "python",
   "pygments_lexer": "ipython3",
   "version": "3.9.2"
  },
  "toc-showcode": false,
  "toc-showmarkdowntxt": false
 },
 "nbformat": 4,
 "nbformat_minor": 4
}
