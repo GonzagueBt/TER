{
 "cells": [
  {
   "cell_type": "markdown",
   "id": "aggregate-remainder",
   "metadata": {},
   "source": [
    "# Lancer JupyterLab ou Jupyter Notebook pour commencer à coder\n",
    "\n",
    "On code sous Jupyter dans ce qu'on appelle des notebook. Tout fonctionne par cellule. Ce qui est créé dans une cellule est disponible pour toutes les cellules situées en dessous d'elle. Une cellule est soit du code, soit du texte Markdown.\n",
    "* Pour ajouter une cellule, il faut cliquer sur _Insérer -> Insérer une cellule (avant ou après)_. Il est aussi possible d'utiliser un raccourci en sélectionnant une cellule (le contour devient bleu) et en appuyant une fois sur la touche du clavier a pour ajouter une cellule avant ou sur la touche b pour ajouter une cellule après.\n",
    "* Pour supprimer une cellule, il faut la sélectionner (le contour devient bleu) puis cliquer sur _Editer -> Supprimer les cellules_ ou sur le symbole Ciseaux. Il est aussi possible d'utiliser un raccourci en appuyant deux fois sur la touche du clavier d.\n",
    "* Pour exécuter une cellule, il faut se placer sur la cellule et cliquer sur le bouton Run dans la barre d'outils (le triangle) ou utiliser le racourci Ctrl + Enter ou Shift + Enter (ce dernier raccourci permet d'aller directement à la cellule suivante).\n",
    "* Pour supprimer l'affichage obtenu après l'exécution d'une cellule, il faut se placer sur la cellule et cliquer sur _Edit -> Clear output_ ou faire _Clic droit -> Clear output_\n",
    "* Pour déplacer une cellule, vous pouvez utiliser la technique du \"glisser-déposer\" (drag and drop) après avoir sélectionner la cellule.\n",
    "\n",
    "\n",
    "Une introduction à Jupyter (équivalent à JupyterLab) est disponible ici : https://realpython.com/jupyter-notebook-introduction/\n",
    "\n",
    "Une fonction très utile de JupyterLab ou Jupyter Notebook est l'export du notebook entier au format PDF ou .tex ou encore l'export du code au format .py. Pour cela, il faut aller dans _File -> Export Notebook As..._\n",
    "\n",
    "Vous pouvez tester les commandes introduites plus haut ci-dessous.\n"
   ]
  },
  {
   "cell_type": "code",
   "execution_count": null,
   "id": "assisted-particular",
   "metadata": {},
   "outputs": [],
   "source": [
    "a=6"
   ]
  },
  {
   "cell_type": "code",
   "execution_count": null,
   "id": "alleged-sender",
   "metadata": {},
   "outputs": [],
   "source": [
    "a+3"
   ]
  },
  {
   "cell_type": "code",
   "execution_count": null,
   "id": "mobile-internship",
   "metadata": {},
   "outputs": [],
   "source": [
    "def compteur(v):\n",
    "    i = 0\n",
    "    while i < v:\n",
    "        print(i)\n",
    "        i = i + 1"
   ]
  },
  {
   "cell_type": "code",
   "execution_count": null,
   "id": "possible-facility",
   "metadata": {},
   "outputs": [],
   "source": [
    "compteur(10)"
   ]
  }
 ],
 "metadata": {
  "kernelspec": {
   "display_name": "Python 3",
   "language": "python",
   "name": "python3"
  },
  "language_info": {
   "codemirror_mode": {
    "name": "ipython",
    "version": 3
   },
   "file_extension": ".py",
   "mimetype": "text/x-python",
   "name": "python",
   "nbconvert_exporter": "python",
   "pygments_lexer": "ipython3",
   "version": "3.8.5"
  }
 },
 "nbformat": 4,
 "nbformat_minor": 5
}
