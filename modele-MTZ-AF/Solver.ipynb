{
 "cells": [
  {
   "cell_type": "code",
   "execution_count": 5,
   "metadata": {},
   "outputs": [],
   "source": [
    "# Import du paquet PythonMIP et de toutes ses fonctionnalités\n",
    "from mip import *\n",
    "# Import du paquet time pour calculer le temps de résolution\n",
    "import time \n",
    "import InstanceReader2"
   ]
  },
  {
   "cell_type": "code",
   "execution_count": 6,
   "metadata": {},
   "outputs": [
    {
     "ename": "SyntaxError",
     "evalue": "invalid syntax (<ipython-input-6-1978db264142>, line 46)",
     "output_type": "error",
     "traceback": [
      "\u001b[0;36m  File \u001b[0;32m\"<ipython-input-6-1978db264142>\"\u001b[0;36m, line \u001b[0;32m46\u001b[0m\n\u001b[0;31m    for i in (data.V):\u001b[0m\n\u001b[0m                     ^\u001b[0m\n\u001b[0;31mSyntaxError\u001b[0m\u001b[0;31m:\u001b[0m invalid syntax\n"
     ]
    }
   ],
   "source": [
    "def solve(data, L, K):\n",
    "    # Création du modèle vide \n",
    "    model = Model(name = \"MTZ-AF\", sense = mip.MAXIMIZE, solver_name=\"CBC\")\n",
    "\n",
    "    # Création des variables y, u et t\n",
    "    y = []\n",
    "    u = []\n",
    "    t = []\n",
    "    for i in range(data.id_max+1):\n",
    "        y.append([])\n",
    "        u.append([])\n",
    "        for j in range(data.id_max+1):\n",
    "            y[i].append(model.add_var(name=\"y(\" + str(i) + \",\" + str(j) + \")\", var_type=BINARY))\n",
    "            u[i].append(model.add_var(name=\"u(\" + str(i) + \",\" + str(j) + \")\", var_type=BINARY))\n",
    "    for k in range(data.id_max+1):\n",
    "        t.append(model.add_var(name=\"t(\" + str(k)  + \")\", lb=0, ub=(L-1) , var_type=CONTINUOUS))\n",
    "    \n",
    "    \n",
    "    ### Fonction objectif\n",
    "    model += (xsum(data.cost[i][j] * (y[i][j]+u[i][j])  for (i,j) in (data.A) ))\n",
    "    \n",
    "    ### Contraintes\n",
    "    \n",
    "    # Contrainte 5 et 6\n",
    "    for i in data.P:\n",
    "        model += (xsum(u[i][j] for j in data.allPatients[int(data.index[int(i)])]) \n",
    "                  - xsum(u[int(data.allDonorsInP[i][j])][i] for j in range(1,int(data.allDonorsInP[i][0])+1) ) == 0)\n",
    "        model += (xsum(y[i][j] for j in data.allPatients[int(data.index[int(i)])]) \n",
    "                  - xsum(y[int(data.allDonors[i][j])][i] for j in range(1,int(data.allDonors[i][0])+1) ) == 0)\n",
    "    \n",
    "    # Contrainte 7\n",
    "    for i in data.P:\n",
    "        model += (xsum(y[i][j] for j in data.allPatients[int(data.index[int(i)])]) \n",
    "                  - xsum(u[i][j] for j in data.allPatients[int(data.index[int(i)])] ) <= 1)\n",
    "    \n",
    "    # Contrainte 8\n",
    "    for i in data.N:\n",
    "        model += (xsum(y[i][j] for j in data.allPatients[int(data.index[int(i)])]) <= 1)\n",
    "    \n",
    "    # Contrainte 9 ##Pas complète\n",
    "    pi = []\n",
    "    for p in pi:\n",
    "        model += (xsum(u[i][j] for (i,j) in data.A <= K+1)\n",
    "    \n",
    "    # Contrainte 10\n",
    "    for i in data.V:\n",
    "        model += (t[i] <= L-1)\n",
    "\n",
    "    # Contrainte 11\n",
    "    for (i,j) in data.A:\n",
    "            if(i != j):\n",
    "                model += ( (t[i]-t[j]+(data.nb_pair+2)*y[i][j]) <= data.nb_pair+1)\n",
    "    \n",
    "    # Contrainte 12\n",
    "    for i in data.N:\n",
    "        model += (t[i] == 0)\n",
    "     \n",
    "    \n",
    "    # Limitation du nombre de processeurs\n",
    "    model.threads = 1  \n",
    "    # Lancement du chronomètre\n",
    "    start = time.perf_counter()\n",
    "    # Résolution du modèle\n",
    "    status = model.optimize(max_seconds=120)  # temps limite = 120s\n",
    "    # Arrêt du chronomètre et calcul du temps de résolution\n",
    "    runtime = time.perf_counter() - start\n",
    "    \n",
    "    print(\"\\n----------------------------------\")\n",
    "    if status == OptimizationStatus.OPTIMAL:\n",
    "        print(\"Status de la résolution: OPTIMAL\")\n",
    "    elif status == OptimizationStatus.FEASIBLE:\n",
    "        print(\"Status de la résolution: TEMPS LIMITE et SOLUTION REALISABLE CALCULEE\")\n",
    "    elif status == OptimizationStatus.NO_SOLUTION_FOUND:\n",
    "        print(\"Status de la résolution: TEMPS LIMITE et AUCUNE SOLUTION CALCULEE\")\n",
    "    elif status == OptimizationStatus.INFEASIBLE or status == OptimizationStatus.INT_INFEASIBLE:\n",
    "        print(\"Status de la résolution: IRREALISABLE\")\n",
    "    elif status == OptimizationStatus.UNBOUNDED:\n",
    "        print(\"Status de la résolution: NON BORNE\")\n",
    "        \n",
    "    print(\"Temps de résolution (s) : \", runtime)    \n",
    "    print(\"----------------------------------\")\n",
    "\n",
    "    # Si le modèle a été résolu à l'optimalité ou si une solution a été trouvée dans le temps limite accordé\n",
    "    if model.num_solutions>0:\n",
    "        print(\"Valeur de la fonction objectif de la solution calculée : \", round(model.objective_value,2))  # ne pas oublier d'arrondir si le coût doit être entier\n",
    "   \n",
    "    "
   ]
  },
  {
   "cell_type": "code",
   "execution_count": 3,
   "metadata": {},
   "outputs": [
    {
     "ename": "NameError",
     "evalue": "name 'solve' is not defined",
     "output_type": "error",
     "traceback": [
      "\u001b[0;31m---------------------------------------------------------------------------\u001b[0m",
      "\u001b[0;31mNameError\u001b[0m                                 Traceback (most recent call last)",
      "\u001b[0;32m<ipython-input-3-cc291ebc412e>\u001b[0m in \u001b[0;36m<module>\u001b[0;34m\u001b[0m\n\u001b[0;32m----> 1\u001b[0;31m \u001b[0msolve\u001b[0m\u001b[0;34m(\u001b[0m\u001b[0mInstancereader\u001b[0m\u001b[0;34m.\u001b[0m\u001b[0mData\u001b[0m\u001b[0;34m(\u001b[0m\u001b[0mstr\u001b[0m\u001b[0;34m(\u001b[0m\u001b[0;36m50\u001b[0m\u001b[0;34m)\u001b[0m\u001b[0;34m,\u001b[0m\u001b[0mstr\u001b[0m\u001b[0;34m(\u001b[0m\u001b[0;36m1\u001b[0m\u001b[0;34m)\u001b[0m\u001b[0;34m)\u001b[0m\u001b[0;34m,\u001b[0m\u001b[0;36m5\u001b[0m\u001b[0;34m,\u001b[0m\u001b[0;36m5\u001b[0m\u001b[0;34m)\u001b[0m\u001b[0;34m\u001b[0m\u001b[0;34m\u001b[0m\u001b[0m\n\u001b[0m",
      "\u001b[0;31mNameError\u001b[0m: name 'solve' is not defined"
     ]
    }
   ],
   "source": [
    "solve(Instancereader.Data(str(50),str(1)),5,5)"
   ]
  },
  {
   "cell_type": "code",
   "execution_count": null,
   "metadata": {},
   "outputs": [],
   "source": []
  }
 ],
 "metadata": {
  "kernelspec": {
   "display_name": "Python 3",
   "language": "python",
   "name": "python3"
  },
  "language_info": {
   "codemirror_mode": {
    "name": "ipython",
    "version": 3
   },
   "file_extension": ".py",
   "mimetype": "text/x-python",
   "name": "python",
   "nbconvert_exporter": "python",
   "pygments_lexer": "ipython3",
   "version": "3.8.5"
  }
 },
 "nbformat": 4,
 "nbformat_minor": 5
}
