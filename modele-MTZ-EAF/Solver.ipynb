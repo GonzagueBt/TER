{
 "cells": [
  {
   "cell_type": "code",
   "execution_count": 5,
   "id": "secret-german",
   "metadata": {},
   "outputs": [],
   "source": [
    "# Import du paquet PythonMIP et de toutes ses fonctionnalités\n",
    "from mip import *\n",
    "# Import du paquet time pour calculer le temps de résolution\n",
    "import time \n",
    "import InstanceReader"
   ]
  },
  {
   "cell_type": "code",
   "execution_count": 49,
   "id": "referenced-mainstream",
   "metadata": {},
   "outputs": [],
   "source": [
    "def solve(data, L, K):\n",
    "    # Création du modèle vide \n",
    "    model = Model(name = \"MTZ-EAF\", sense = mip.MAXIMIZE, solver_name=\"CBC\")\n",
    "    # Création des variables y, u et t\n",
    "    y=[]\n",
    "    u=[]\n",
    "    #y = [[model.add_var(name=\"y(\" + str(data.A[i][j]) + \",\" + str(data.A[i][j+1]) + \")\", var_type=BINARY) for i in range(len(data.A))] for j in range(1)]\n",
    "    for i in (data.V):\n",
    "        for j in (data.allPatients[int(data.index[int(i)])]):\n",
    "            y.append(model.add_var(name=\"y(\" + str(i) + \",\" + str(j) + \")\", var_type=BINARY))\n",
    "    for k in range(len(data.P)):\n",
    "        for i in (data.P):\n",
    "            for j in (data.allPatients[int(data.index[int(i)])]):\n",
    "                u.append(model.add_var(name=\"u(\"+str(k) + \",\" + str(i) + \",\" + str(j)+ \")\", var_type=BINARY))\n",
    "    t = [model.add_var(name=\"t(\" + str(i)  + \")\", lb=0, ub=(L-1) , var_type=CONTINUOUS) for i in range(len(data.V))]\n",
    "        \n",
    "    \n",
    "    # Ajout de la fonction objectif au modèle\n",
    "    # !!! fonction non valide !!!\n",
    "    #deuxième partie de la somme (fausse aussi) en dessous\n",
    "    model += (xsum(data.cost[i][j] * y[i][j]  for i in (data.V) for j in (data.allPatients[int(data.index[int(i)])]) ))\n",
    "    # !!! fonction non valide !!! \n",
    "    \n",
    "    #Les contraintes\n",
    "    for k in range(len(data.P)):\n",
    "        for i in (data.P):\n",
    "            model += (xsum(u[k][i][j] for j in data.allPatients[int(data.index[int(i)])])+ xsum(u[k][int(data.allDonors[i][j])][i] for j in range(1,data.allDonors[i][0])) ==0 ) \n",
    "    \n",
    "    \n",
    "    \n",
    "    # Limitation du nombre de processeurs\n",
    "    model.threads = 1  \n",
    "    # Lancement du chronomètre\n",
    "    start = time.perf_counter()\n",
    "    # Résolution du modèle\n",
    "    status = model.optimize(max_seconds=120)  # temps limite = 120s\n",
    "    # Arrêt du chronomètre et calcul du temps de résolution\n",
    "    runtime = time.perf_counter() - start\n",
    "    \n",
    "    print(\"\\n----------------------------------\")\n",
    "    if status == OptimizationStatus.OPTIMAL:\n",
    "        print(\"Status de la résolution: OPTIMAL\")\n",
    "    elif status == OptimizationStatus.FEASIBLE:\n",
    "        print(\"Status de la résolution: TEMPS LIMITE et SOLUTION REALISABLE CALCULEE\")\n",
    "    elif status == OptimizationStatus.NO_SOLUTION_FOUND:\n",
    "        print(\"Status de la résolution: TEMPS LIMITE et AUCUNE SOLUTION CALCULEE\")\n",
    "    elif status == OptimizationStatus.INFEASIBLE or status == OptimizationStatus.INT_INFEASIBLE:\n",
    "        print(\"Status de la résolution: IRREALISABLE\")\n",
    "    elif status == OptimizationStatus.UNBOUNDED:\n",
    "        print(\"Status de la résolution: NON BORNE\")\n",
    "        \n",
    "    print(\"Temps de résolution (s) : \", runtime)    \n",
    "    print(\"----------------------------------\")\n",
    "\n",
    "    # Si le modèle a été résolu à l'optimalité ou si une solution a été trouvée dans le temps limite accordé\n",
    "    if model.num_solutions>0:\n",
    "        print(\"Valeur de la fonction objectif de la solution calculée : \", round(model.objective_value,2))  # ne pas oublier d'arrondir si le coût doit être entier\n",
    "        \n",
    "    "
   ]
  },
  {
   "cell_type": "code",
   "execution_count": null,
   "id": "mexican-edmonton",
   "metadata": {},
   "outputs": [],
   "source": []
  },
  {
   "cell_type": "code",
   "execution_count": null,
   "id": "taken-blank",
   "metadata": {},
   "outputs": [],
   "source": []
  },
  {
   "cell_type": "code",
   "execution_count": 50,
   "id": "biological-evolution",
   "metadata": {},
   "outputs": [
    {
     "name": "stdout",
     "output_type": "stream",
     "text": [
      "id max :  127\n",
      "\n"
     ]
    },
    {
     "ename": "TypeError",
     "evalue": "'Var' object is not subscriptable",
     "output_type": "error",
     "traceback": [
      "\u001b[0;31m---------------------------------------------------------------------------\u001b[0m",
      "\u001b[0;31mTypeError\u001b[0m                                 Traceback (most recent call last)",
      "\u001b[0;32m<ipython-input-50-4a72e378b919>\u001b[0m in \u001b[0;36m<module>\u001b[0;34m\u001b[0m\n\u001b[0;32m----> 1\u001b[0;31m \u001b[0msolve\u001b[0m\u001b[0;34m(\u001b[0m\u001b[0mInstanceReader\u001b[0m\u001b[0;34m.\u001b[0m\u001b[0mData\u001b[0m\u001b[0;34m(\u001b[0m\u001b[0mstr\u001b[0m\u001b[0;34m(\u001b[0m\u001b[0;36m50\u001b[0m\u001b[0;34m)\u001b[0m\u001b[0;34m,\u001b[0m\u001b[0mstr\u001b[0m\u001b[0;34m(\u001b[0m\u001b[0;36m0\u001b[0m\u001b[0;34m)\u001b[0m\u001b[0;34m)\u001b[0m\u001b[0;34m,\u001b[0m\u001b[0;36m4\u001b[0m\u001b[0;34m,\u001b[0m\u001b[0;36m4\u001b[0m\u001b[0;34m)\u001b[0m\u001b[0;34m\u001b[0m\u001b[0;34m\u001b[0m\u001b[0m\n\u001b[0m",
      "\u001b[0;32m<ipython-input-49-b5860f15fa9a>\u001b[0m in \u001b[0;36msolve\u001b[0;34m(data, L, K)\u001b[0m\n\u001b[1;32m     19\u001b[0m     \u001b[0;31m# !!! fonction non valide !!!\u001b[0m\u001b[0;34m\u001b[0m\u001b[0;34m\u001b[0m\u001b[0;34m\u001b[0m\u001b[0m\n\u001b[1;32m     20\u001b[0m     \u001b[0;31m#deuxième partie de la somme (fausse aussi) en dessous\u001b[0m\u001b[0;34m\u001b[0m\u001b[0;34m\u001b[0m\u001b[0;34m\u001b[0m\u001b[0m\n\u001b[0;32m---> 21\u001b[0;31m     \u001b[0mmodel\u001b[0m \u001b[0;34m+=\u001b[0m \u001b[0;34m(\u001b[0m\u001b[0mxsum\u001b[0m\u001b[0;34m(\u001b[0m\u001b[0mdata\u001b[0m\u001b[0;34m.\u001b[0m\u001b[0mcost\u001b[0m\u001b[0;34m[\u001b[0m\u001b[0mi\u001b[0m\u001b[0;34m]\u001b[0m\u001b[0;34m[\u001b[0m\u001b[0mj\u001b[0m\u001b[0;34m]\u001b[0m \u001b[0;34m*\u001b[0m \u001b[0my\u001b[0m\u001b[0;34m[\u001b[0m\u001b[0mi\u001b[0m\u001b[0;34m]\u001b[0m\u001b[0;34m[\u001b[0m\u001b[0mj\u001b[0m\u001b[0;34m]\u001b[0m  \u001b[0;32mfor\u001b[0m \u001b[0mi\u001b[0m \u001b[0;32min\u001b[0m \u001b[0;34m(\u001b[0m\u001b[0mdata\u001b[0m\u001b[0;34m.\u001b[0m\u001b[0mV\u001b[0m\u001b[0;34m)\u001b[0m \u001b[0;32mfor\u001b[0m \u001b[0mj\u001b[0m \u001b[0;32min\u001b[0m \u001b[0;34m(\u001b[0m\u001b[0mdata\u001b[0m\u001b[0;34m.\u001b[0m\u001b[0mallPatients\u001b[0m\u001b[0;34m[\u001b[0m\u001b[0mint\u001b[0m\u001b[0;34m(\u001b[0m\u001b[0mdata\u001b[0m\u001b[0;34m.\u001b[0m\u001b[0mindex\u001b[0m\u001b[0;34m[\u001b[0m\u001b[0mint\u001b[0m\u001b[0;34m(\u001b[0m\u001b[0mi\u001b[0m\u001b[0;34m)\u001b[0m\u001b[0;34m]\u001b[0m\u001b[0;34m)\u001b[0m\u001b[0;34m]\u001b[0m\u001b[0;34m)\u001b[0m \u001b[0;34m)\u001b[0m\u001b[0;34m)\u001b[0m\u001b[0;34m\u001b[0m\u001b[0;34m\u001b[0m\u001b[0m\n\u001b[0m\u001b[1;32m     22\u001b[0m     \u001b[0;31m# !!! fonction non valide !!!\u001b[0m\u001b[0;34m\u001b[0m\u001b[0;34m\u001b[0m\u001b[0;34m\u001b[0m\u001b[0m\n\u001b[1;32m     23\u001b[0m \u001b[0;34m\u001b[0m\u001b[0m\n",
      "\u001b[0;32m/usr/local/Cellar/jupyterlab/3.0.12/libexec/lib/python3.9/site-packages/mip/model.py\u001b[0m in \u001b[0;36mxsum\u001b[0;34m(terms)\u001b[0m\n\u001b[1;32m   1546\u001b[0m     \"\"\"\n\u001b[1;32m   1547\u001b[0m     \u001b[0mresult\u001b[0m \u001b[0;34m=\u001b[0m \u001b[0mmip\u001b[0m\u001b[0;34m.\u001b[0m\u001b[0mLinExpr\u001b[0m\u001b[0;34m(\u001b[0m\u001b[0;34m)\u001b[0m\u001b[0;34m\u001b[0m\u001b[0;34m\u001b[0m\u001b[0m\n\u001b[0;32m-> 1548\u001b[0;31m     \u001b[0;32mfor\u001b[0m \u001b[0mterm\u001b[0m \u001b[0;32min\u001b[0m \u001b[0mterms\u001b[0m\u001b[0;34m:\u001b[0m\u001b[0;34m\u001b[0m\u001b[0;34m\u001b[0m\u001b[0m\n\u001b[0m\u001b[1;32m   1549\u001b[0m         \u001b[0mresult\u001b[0m\u001b[0;34m.\u001b[0m\u001b[0madd_term\u001b[0m\u001b[0;34m(\u001b[0m\u001b[0mterm\u001b[0m\u001b[0;34m)\u001b[0m\u001b[0;34m\u001b[0m\u001b[0;34m\u001b[0m\u001b[0m\n\u001b[1;32m   1550\u001b[0m     \u001b[0;32mreturn\u001b[0m \u001b[0mresult\u001b[0m\u001b[0;34m\u001b[0m\u001b[0;34m\u001b[0m\u001b[0m\n",
      "\u001b[0;32m<ipython-input-49-b5860f15fa9a>\u001b[0m in \u001b[0;36m<genexpr>\u001b[0;34m(.0)\u001b[0m\n\u001b[1;32m     19\u001b[0m     \u001b[0;31m# !!! fonction non valide !!!\u001b[0m\u001b[0;34m\u001b[0m\u001b[0;34m\u001b[0m\u001b[0;34m\u001b[0m\u001b[0m\n\u001b[1;32m     20\u001b[0m     \u001b[0;31m#deuxième partie de la somme (fausse aussi) en dessous\u001b[0m\u001b[0;34m\u001b[0m\u001b[0;34m\u001b[0m\u001b[0;34m\u001b[0m\u001b[0m\n\u001b[0;32m---> 21\u001b[0;31m     \u001b[0mmodel\u001b[0m \u001b[0;34m+=\u001b[0m \u001b[0;34m(\u001b[0m\u001b[0mxsum\u001b[0m\u001b[0;34m(\u001b[0m\u001b[0mdata\u001b[0m\u001b[0;34m.\u001b[0m\u001b[0mcost\u001b[0m\u001b[0;34m[\u001b[0m\u001b[0mi\u001b[0m\u001b[0;34m]\u001b[0m\u001b[0;34m[\u001b[0m\u001b[0mj\u001b[0m\u001b[0;34m]\u001b[0m \u001b[0;34m*\u001b[0m \u001b[0my\u001b[0m\u001b[0;34m[\u001b[0m\u001b[0mi\u001b[0m\u001b[0;34m]\u001b[0m\u001b[0;34m[\u001b[0m\u001b[0mj\u001b[0m\u001b[0;34m]\u001b[0m  \u001b[0;32mfor\u001b[0m \u001b[0mi\u001b[0m \u001b[0;32min\u001b[0m \u001b[0;34m(\u001b[0m\u001b[0mdata\u001b[0m\u001b[0;34m.\u001b[0m\u001b[0mV\u001b[0m\u001b[0;34m)\u001b[0m \u001b[0;32mfor\u001b[0m \u001b[0mj\u001b[0m \u001b[0;32min\u001b[0m \u001b[0;34m(\u001b[0m\u001b[0mdata\u001b[0m\u001b[0;34m.\u001b[0m\u001b[0mallPatients\u001b[0m\u001b[0;34m[\u001b[0m\u001b[0mint\u001b[0m\u001b[0;34m(\u001b[0m\u001b[0mdata\u001b[0m\u001b[0;34m.\u001b[0m\u001b[0mindex\u001b[0m\u001b[0;34m[\u001b[0m\u001b[0mint\u001b[0m\u001b[0;34m(\u001b[0m\u001b[0mi\u001b[0m\u001b[0;34m)\u001b[0m\u001b[0;34m]\u001b[0m\u001b[0;34m)\u001b[0m\u001b[0;34m]\u001b[0m\u001b[0;34m)\u001b[0m \u001b[0;34m)\u001b[0m\u001b[0;34m)\u001b[0m\u001b[0;34m\u001b[0m\u001b[0;34m\u001b[0m\u001b[0m\n\u001b[0m\u001b[1;32m     22\u001b[0m     \u001b[0;31m# !!! fonction non valide !!!\u001b[0m\u001b[0;34m\u001b[0m\u001b[0;34m\u001b[0m\u001b[0;34m\u001b[0m\u001b[0m\n\u001b[1;32m     23\u001b[0m \u001b[0;34m\u001b[0m\u001b[0m\n",
      "\u001b[0;31mTypeError\u001b[0m: 'Var' object is not subscriptable"
     ]
    }
   ],
   "source": [
    "solve(InstanceReader.Data(str(50),str(0)),4,4)"
   ]
  },
  {
   "cell_type": "code",
   "execution_count": null,
   "id": "rubber-central",
   "metadata": {},
   "outputs": [],
   "source": [
    "+ xsum(xsum(data.cost[data.A[i][0]][data.A[i][1]]*u[k][data.A[i][0]][data.A[i][1]] for i in range(len(data.A)))for k in range (len(data.P)))"
   ]
  },
  {
   "cell_type": "code",
   "execution_count": null,
   "id": "fitted-tracker",
   "metadata": {},
   "outputs": [],
   "source": []
  }
 ],
 "metadata": {
  "kernelspec": {
   "display_name": "Python 3",
   "language": "python",
   "name": "python3"
  },
  "language_info": {
   "codemirror_mode": {
    "name": "ipython",
    "version": 3
   },
   "file_extension": ".py",
   "mimetype": "text/x-python",
   "name": "python",
   "nbconvert_exporter": "python",
   "pygments_lexer": "ipython3",
   "version": "3.9.2"
  }
 },
 "nbformat": 4,
 "nbformat_minor": 5
}
