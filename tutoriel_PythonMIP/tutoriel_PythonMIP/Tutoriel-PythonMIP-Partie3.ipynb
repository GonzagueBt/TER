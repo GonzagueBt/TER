{
 "cells": [
  {
   "cell_type": "markdown",
   "metadata": {},
   "source": [
    "# Tutoriel de prise en main de PythonMIP (partie 3)\n",
    "\n",
    "Dans ce notebook, on reprend l'exemple et le code de la partie précédente. Nous allons arranger le code de manière à pouvoir facilement lancer la résolution du programme linéaire en nombres entiers sur différents jeux de données stockées dans des fichiers.\n",
    "\n",
    "Le code a été placé dans un fichier Python appelé _cwfl-PythonMIP.py_. Il a été réorganisé. Ouvrez-le pour voir les différences, notamment la partie finale avec le passage en paramètre du nom du fichier où se situe les données et du nom du dossier dans lequel sera stocké la solution.\n",
    "\n",
    "Pour lancer directement la résolution du modèle pour le jeu de données _cap41_ dont le chemin relatif est *\"../data_CWFL/cap41.txt\" (.. pour revenir au dossier parent)* et stocker la solution dans le dossier courant, on fait appel directement à la commande `python3` (en cas d'erreur avec `python3`, il faut utiliser commande `python`, cela dépend de la version Python accessible depuis la commande). "
   ]
  },
  {
   "cell_type": "code",
   "execution_count": null,
   "metadata": {},
   "outputs": [],
   "source": [
    "!python3 cwfl-PythonMIP.py ../data_CWFL/cap41.txt .  # le . fait référence au dossier courant"
   ]
  },
  {
   "cell_type": "markdown",
   "metadata": {},
   "source": [
    "Pour lancer la résolution du modèle pour tous les jeux de données du dossier *data_CWFL (l'utilisation .. permet de revenir au dossier parent)* et stocker les solutions dans le dossier *solution_CWFL*, on utilise le fichier *script_cwfl-PythonMIP.sh*. Le bilan des résultats est disponible dans le fichier _bilan.csv_ du dossier *solution_CWFL* (il faut choisir `;` comme _Delimiter_)."
   ]
  },
  {
   "cell_type": "code",
   "execution_count": null,
   "metadata": {},
   "outputs": [],
   "source": [
    "!bash script_cwfl-PythonMIP.sh ../data_CWFL solution_CWFL"
   ]
  }
 ],
 "metadata": {
  "kernelspec": {
   "display_name": "Python 3",
   "language": "python",
   "name": "python3"
  },
  "language_info": {
   "codemirror_mode": {
    "name": "ipython",
    "version": 3
   },
   "file_extension": ".py",
   "mimetype": "text/x-python",
   "name": "python",
   "nbconvert_exporter": "python",
   "pygments_lexer": "ipython3",
   "version": "3.9.2"
  },
  "toc-showcode": false,
  "toc-showmarkdowntxt": false
 },
 "nbformat": 4,
 "nbformat_minor": 4
}
