{
 "cells": [
  {
   "cell_type": "code",
   "execution_count": 1,
   "id": "lesser-vatican",
   "metadata": {},
   "outputs": [],
   "source": [
    "# Import du paquet PythonMIP et de toutes ses fonctionnalités\n",
    "from mip import *\n",
    "# Import du paquet time pour calculer le temps de résolution\n",
    "import time \n",
    "import InstanceReader"
   ]
  },
  {
   "cell_type": "code",
   "execution_count": 8,
   "id": "interstate-bubble",
   "metadata": {},
   "outputs": [],
   "source": [
    "def solve(data, L, K):\n",
    "    # Création du modèle vide \n",
    "    model = Model(name = \"MTZ-EAF\", sense = mip.MAXIMIZE, solver_name=\"CBC\")\n",
    "    # Création des variables y, u et t\n",
    "    y=[]\n",
    "    u=[]\n",
    "    #y = [[model.add_var(name=\"y(\" + str(data.A[i][j]) + \",\" + str(data.A[i][j+1]) + \")\", var_type=BINARY) for i in range(len(data.A))] for j in range(1)]\n",
    "    for i in range(data.id_max+1):\n",
    "        y.append([])\n",
    "        for j in range(data.id_max+1):\n",
    "            y[i].append(model.add_var(name=\"y(\" + str(i) + \",\" + str(j) + \")\", var_type=BINARY))\n",
    "\n",
    "    for k in range(len(data.P)):\n",
    "        u.append([])\n",
    "        for i in range(data.id_max+1):\n",
    "            u[k].append([])\n",
    "            for j in range(data.id_max+1):\n",
    "                u[k][i].append(model.add_var(name=\"u(\"+str(k) + \",\" + str(i) + \",\" + str(j)+ \")\", var_type=BINARY))\n",
    "    \n",
    "    t = [model.add_var(name=\"t(\" + str(i)  + \")\", lb=0, ub=(L-1) , var_type=CONTINUOUS) for i in range(len(data.V))]\n",
    "        \n",
    "    \n",
    "    # Ajout de la fonction objectif au modèle\n",
    "    #deuxième partie de la somme (fausse aussi) en dessous\n",
    "    model += (xsum(data.cost[i][j] * y[i][j]  for i in (data.V) for j in (data.allPatients[int(data.index[int(i)])]))\n",
    "             + xsum(xsum(data.cost[i][j]*u[k][i][j] for i in (data.V) for j in (data.allPatients[int(data.index[int(i)])])) for k in range (len(data.P))))\n",
    "    \n",
    "    #Les contraintes\n",
    "    \n",
    "    # Contrainte 17\n",
    "    for k in range(len(data.P)):\n",
    "        for i in (data.P):\n",
    "            model += (xsum(u[k][i][j] for j in data.allPatients[int(data.index[int(i)])])\n",
    "                      -xsum(u[k][int(data.allDonorsInP[i][j])][i] for j in range(1,int(data.allDonorsInP[i][0])+1)) ==0 ) \n",
    "    \n",
    "    #Contrainte 18\n",
    "    for i in (data.P):\n",
    "        model += (xsum(y[i][j] for j in data.allPatients[int(data.index[int(i)])])\n",
    "                      -xsum(y[int(data.allDonors[i][j])][i] for j in range(1,int(data.allDonors[i][0])+1)) ==0 ) \n",
    "    \n",
    "    #Contrainte 19\n",
    "    #En cours\n",
    "    for i in (data.P):\n",
    "        model += (xsum(y[i][j] for j in data.allPatients[int(data.index[int(i)])])\n",
    "                  + xsum(xsum(u[k][i][j] for j in data.allPatients[int(data.index[int(i)])]) for k in range (len(data.P))) )\n",
    "    \n",
    "    # Limitation du nombre de processeurs\n",
    "    model.threads = 1  \n",
    "    # Lancement du chronomètre\n",
    "    start = time.perf_counter()\n",
    "    # Résolution du modèle\n",
    "    status = model.optimize(max_seconds=120)  # temps limite = 120s\n",
    "    # Arrêt du chronomètre et calcul du temps de résolution\n",
    "    runtime = time.perf_counter() - start\n",
    "    \n",
    "    print(\"\\n----------------------------------\")\n",
    "    if status == OptimizationStatus.OPTIMAL:\n",
    "        print(\"Status de la résolution: OPTIMAL\")\n",
    "    elif status == OptimizationStatus.FEASIBLE:\n",
    "        print(\"Status de la résolution: TEMPS LIMITE et SOLUTION REALISABLE CALCULEE\")\n",
    "    elif status == OptimizationStatus.NO_SOLUTION_FOUND:\n",
    "        print(\"Status de la résolution: TEMPS LIMITE et AUCUNE SOLUTION CALCULEE\")\n",
    "    elif status == OptimizationStatus.INFEASIBLE or status == OptimizationStatus.INT_INFEASIBLE:\n",
    "        print(\"Status de la résolution: IRREALISABLE\")\n",
    "    elif status == OptimizationStatus.UNBOUNDED:\n",
    "        print(\"Status de la résolution: NON BORNE\")\n",
    "        \n",
    "    print(\"Temps de résolution (s) : \", runtime)    \n",
    "    print(\"----------------------------------\")\n",
    "\n",
    "    # Si le modèle a été résolu à l'optimalité ou si une solution a été trouvée dans le temps limite accordé\n",
    "    if model.num_solutions>0:\n",
    "        print(\"Valeur de la fonction objectif de la solution calculée : \", round(model.objective_value,2))  # ne pas oublier d'arrondir si le coût doit être entier\n",
    "        \n",
    "    "
   ]
  },
  {
   "cell_type": "code",
   "execution_count": 9,
   "id": "buried-musician",
   "metadata": {},
   "outputs": [
    {
     "name": "stdout",
     "output_type": "stream",
     "text": [
      "id max :  127\n",
      "\n",
      "\n",
      "----------------------------------\n",
      "Status de la résolution: OPTIMAL\n",
      "Temps de résolution (s) :  2.947770860999981\n",
      "----------------------------------\n",
      "Valeur de la fonction objectif de la solution calculée :  51.0\n"
     ]
    }
   ],
   "source": [
    "solve(InstanceReader.Data(str(50),str(0)),4,4)"
   ]
  },
  {
   "cell_type": "code",
   "execution_count": null,
   "id": "damaged-imperial",
   "metadata": {},
   "outputs": [],
   "source": []
  },
  {
   "cell_type": "code",
   "execution_count": null,
   "id": "athletic-raising",
   "metadata": {},
   "outputs": [],
   "source": []
  },
  {
   "cell_type": "code",
   "execution_count": null,
   "id": "hundred-license",
   "metadata": {},
   "outputs": [],
   "source": []
  },
  {
   "cell_type": "code",
   "execution_count": null,
   "id": "complimentary-creator",
   "metadata": {},
   "outputs": [],
   "source": []
  }
 ],
 "metadata": {
  "kernelspec": {
   "display_name": "Python 3",
   "language": "python",
   "name": "python3"
  },
  "language_info": {
   "codemirror_mode": {
    "name": "ipython",
    "version": 3
   },
   "file_extension": ".py",
   "mimetype": "text/x-python",
   "name": "python",
   "nbconvert_exporter": "python",
   "pygments_lexer": "ipython3",
   "version": "3.9.2"
  }
 },
 "nbformat": 4,
 "nbformat_minor": 5
}
