{
 "cells": [
  {
   "cell_type": "markdown",
   "metadata": {},
   "source": [
    "# Tutoriel de prise en main de PythonMIP (partie 2)\n",
    "\n",
    "Dans ce notebook, on vous explique au travers d'un exemple notamment comment utiliser le paquet _PythonMIP_ pour résoudre des programmes linéaires (en nombres entiers) **plus complexes** avec lecture des données dans un fichier.\n",
    "\n",
    "Nous allons écrire un code permettant de résoudre le problème de localisation d'entrepôts sous contraintes de capacité. \n",
    "\n",
    "Dans ce problème, on dispose d'un ensemble $\\mathcal{W}$ d'entrepôts potentiels et d'un ensemble $\\mathcal{J}$ de clients. Un coût $f_i$ est associé à l'ouverture d'un entrepôt $i\\in \\mathcal{W}$. Chaque entrepôt $i$ possède une capacité $Q_i$ (stockage, fabrication,...) et chaque client $j\\in \\mathcal{J}$ a une demande $d_j>0$. Un coût $c_{ji}$ est associé à chaque unité de la demande d'un client $j$ satisfaite par l'entrepôt $i$. Il s'agit de décider de l'ouverture d'entrepôts parmi ceux de $\\mathcal{W}$ et de l'affectation des clients aux entrepôts qui auront été ouverts. L'objectif est de minimiser la somme des coûts d'ouverture et d'affectation. Une solution réalisable du problème doit satisfaire les contraintes suivantes :\n",
    "* La totalité de la demande de chaque client doit être affectée aux entrepôts ouverts\n",
    "* La somme des demandes des clients affectés à un entrepôt ouivert $i\\in \\mathcal{W}$ doit être plus petite ou égale que sa capacité $Q_i$\n",
    "\n",
    "Ce problème peut se modéliser en utilisant la programmation linéaire en nombres entiers. Soit $z_i$ la variable binaire égale à 1 si et seulement si l'entrepôt $i\\in \\mathcal{W}$ est ouvert. Soit $y_{ji}$ la variable continue indiquant la fraction de la demande du client $j\\in \\mathcal{J}$ servie par l'entrepôt $i$. On peut écrire le programme linéaire en nombres entiers suivant :\n",
    "\n",
    "$$\\begin{array}{rlll}\n",
    "\\min & \\sum\\limits_{i\\in \\mathcal{W}}f_iz_i + \\sum\\limits_{j\\in \\mathcal{J}}\\sum\\limits_{i\\in \\mathcal{W}}c_{ji}y_{ji} & & (1) \\\\\n",
    "\\text{s.c.} & \\sum\\limits_{i\\in \\mathcal{W}}y_{ji} = 1 & \\forall j\\in \\mathcal{J} & (2)\\\\\n",
    " & \\sum_\\limits{j\\in \\mathcal{J}}d_jy_{ji} \\leq Q_iz_i & \\forall i\\in \\mathcal{W} & (3) \\\\\n",
    " & z_i \\in \\{0,1\\} & \\forall i\\in \\mathcal{W} & (4) \\\\\n",
    " & y_{ji} \\leq 1 & \\forall j\\in \\mathcal{J}, \\forall i\\in \\mathcal{W} & (5) \\\\\n",
    " & y_{ji} \\geq  0 & \\forall j\\in \\mathcal{J}, \\forall i\\in \\mathcal{W} & (6)\n",
    "\\end{array}$$\n",
    "\n",
    "La fonction objectif (1) consiste à minimiser la somme des coûts d'ouverture des entrepôts et des coûts d'affectations des clients. Les contraintes (2) imposent la satisfaction totale de la demande de chacun des clients. Les contraintes (3) imposent le respect des capacités de chacun des entrepôts. Enfin, les contraintes (4) et (5) définissent le domaine des variables.\n",
    "\n",
    "\n"
   ]
  },
  {
   "cell_type": "markdown",
   "metadata": {},
   "source": [
    "## Lire les données dans un fichier\n",
    "\n",
    "Voyons comme lire les données d'un fichier. Ces données sont organisés dans le fichier _cap41.txt_ situé dans le dossier _data\\_CWFL_ de la manière suivante :  \n",
    "_#Taille des données (ligne 1)_  \n",
    "$\\vert \\mathcal{W}\\vert$ $\\vert \\mathcal{J}\\vert$  \n",
    "_#Pour chaque entrepôt $i\\in \\mathcal{W}$ (ligne 2 à $1+\\vert \\mathcal{W}\\vert$)_  \n",
    "$Q_i$ $f_i$  \n",
    "_#Pour chaque client $j\\in \\mathcal{J}$(ligne $2+\\vert \\mathcal{W}\\vert$ à $2+\\vert \\mathcal{W}\\vert+2\\vert \\mathcal{J}\\vert$)_  \n",
    "$d_j$  \n",
    "$c_{j1}$ $c_{j2}$ ... $c_{j\\vert \\mathcal{W}\\vert}$\n",
    "\n",
    "Nous considérons que les données seront toujours données sous ce format. Le code suivant permettra alors de résoudre plusieurs jeux de données en n'ayant qu'à modifier le nom du fichier à lire."
   ]
  },
  {
   "cell_type": "code",
   "execution_count": null,
   "metadata": {},
   "outputs": [],
   "source": [
    "import re\n",
    "datafileName = '../data_CWFL/cap41.txt' #chemin relatif vers le fichier (l'utilisation .. permet de revenir au dossier parent)\n",
    "with open(datafileName, \"r\") as file:  #ouvre le fichier, le ferme automatiquement à la fin et gère les exceptions\n",
    "    line = file.readline()  # lit la 1ère ligne\n",
    "    lineTab = line.split()  # sépare les éléments de la ligne dans un tableau en utilisant l'espace comme séparateur\n",
    "    nb_warehouses = int(lineTab[0]) # la valeur de la 1ère case correspond au nombre d'entrepôts (attention de penser à convertir la chaîne de caractère en un entier)\n",
    "    nb_customers = int(lineTab[1]) # la valeur de la 2ème case correspond au nombre de clients\n",
    "    capacity = [] # création d'un tableau qui stockera les capacités des entrepôts\n",
    "    opening_cost = [] # création d'un tableau qui stockera les coûts d'ouverture des entrepôts\n",
    "    for i in range(nb_warehouses): # pour chaque ligne contenant les informations sur les entrepôts\n",
    "        line = file.readline()  # lit la ligne suivante\n",
    "        lineTab = line.split()  # sépare les éléments de la ligne dans un tableau en utilisant l'espace comme séparateur\n",
    "        capacity.append(int(lineTab[0])) # ajoute l'élément de la 1ère case au tableau qui contient les capacités \n",
    "        opening_cost.append(float(lineTab[1])) # ajoute l'élément de la 2ème case au tableau qui contient les coûts d'ouverture \n",
    "    demand = [] # création d'un tableau qui stockera les demandes des clients\n",
    "    assignment_cost = [] # création d'un tableau qui stockera les tableaux de coûts d'affectation aux entrepôts de chaque client\n",
    "    for j in range(nb_customers): # pour chaque ligne contenant les informations sur les clients\n",
    "        line = file.readline()  # lit la ligne suivante\n",
    "        demand.append(int(line.split()[0])) # ajoute l'élément de la 1ère case au tableau qui contient la demande des clients\n",
    "        cost =[] # création du tableau des coûts d'affectation du client j aux entrepôts\n",
    "        line = file.readline()  # lit la ligne suivante\n",
    "        lineTab = line.split()  # sépare les éléments de la ligne dans un tableau en utilisant l'espace comme séparateur\n",
    "        for i in range(nb_warehouses):\n",
    "            cost.append(float(lineTab[i])) # ajoute l'élément de la case i au tableau contenant les coûts d'affectation du client j aux entrepôts\n",
    "        assignment_cost.append(cost) # ajoute le tableau cost au tableau aux entrepôts au tableau contenant les coûts d'affectations de tous les clients au dépôt\n",
    "        \n",
    "# Affichage des informations lues\n",
    "print(\"Nombre d'entrepôts = \", nb_warehouses)\n",
    "print(\"Capacité des entrepôts = \", capacity)\n",
    "print(\"Coût d'ouverture des entrepôts = \", opening_cost)\n",
    "print(\"Nombre de clients = \", nb_customers)\n",
    "print(\"Demande des clients = \", demand)\n",
    "#for j in range(nb_customers):\n",
    "#    print(assignment_cost[j])"
   ]
  },
  {
   "cell_type": "markdown",
   "metadata": {},
   "source": [
    "## Création et définition du modèle\n",
    "\n",
    "On commence par créer le modèle (problème) vide en indiquant le sens de l'optimisation (minimisation ou maximisation)."
   ]
  },
  {
   "cell_type": "code",
   "execution_count": null,
   "metadata": {},
   "outputs": [],
   "source": [
    "# Import du paquet PythonMIP et de toutes ses fonctionnalités\n",
    "from mip import *\n",
    "# Import du paquet time pour calculer le temps de résolution\n",
    "import time \n",
    "\n",
    "# Création du modèle vide \n",
    "model = Model(name = \"CWFL\", sense = mip.MINIMIZE, solver_name=\"CBC\")  # Utilisation de CBC (remplacer par GUROBI pour utiliser cet autre solveur)"
   ]
  },
  {
   "cell_type": "markdown",
   "metadata": {},
   "source": [
    "On va maintenant créer les variables."
   ]
  },
  {
   "cell_type": "code",
   "execution_count": null,
   "metadata": {},
   "outputs": [],
   "source": [
    "# Création des variables z et y\n",
    "z = [model.add_var(name=\"z(\" + str(i) + \")\", var_type=BINARY) for i in range(nb_warehouses)]\n",
    "y = [[model.add_var(name=\"y(\" + str(j) + \",\" + str(i) + \")\", lb=0, ub= 1, var_type=CONTINUOUS) for i in range(nb_warehouses)] for j in range(nb_customers)]\n",
    "\n",
    "#Il aurait été possible de créer les variables comme ceci (cela est équivalent)\n",
    "#z = []\n",
    "#for i in range(nb_warehouses):\n",
    "#    z.append(model.add_var(name=\"z(\" + str(i) + \")\", var_type=BINARY))\n",
    "#y = []\n",
    "#for j in range(nb_customers):  \n",
    "#    for i in range(nb_warehouses):\n",
    "#        y.append(model.add_var(name=\"y(\" + str(j) + \",\" + str(i) + \")\", lb=0, ub= 1, var_type=CONTINUOUS))"
   ]
  },
  {
   "cell_type": "markdown",
   "metadata": {},
   "source": [
    "On ajoute ensuite la fonction objectif au modèle à la l'aide de la commande ̀`model+=` et la fonction ̀`xsum`"
   ]
  },
  {
   "cell_type": "code",
   "execution_count": null,
   "metadata": {},
   "outputs": [],
   "source": [
    "# Ajout de la fonction objectif au modèle\n",
    "model += (xsum(opening_cost[i] * z[i] for i in range(nb_warehouses))+xsum(assignment_cost[j][i]*y[j][i] for j in range(nb_customers) for i in range(nb_warehouses)) )"
   ]
  },
  {
   "cell_type": "markdown",
   "metadata": {},
   "source": [
    "On ajoute ensuite les contraintes au modèle à la l'aide de la commande ̀`model+=`et la fonction ̀`xsum`"
   ]
  },
  {
   "cell_type": "code",
   "execution_count": null,
   "metadata": {},
   "outputs": [],
   "source": [
    "# Ajout des contraintes au modèle\n",
    "for j in range(nb_customers):  \n",
    "    model += (xsum([y[j][i] for i in range(nb_warehouses)]) == 1)  # Contraintes (2)\n",
    "\n",
    "for i in range(nb_warehouses):  \n",
    "    model += (xsum([demand[j]*y[j][i] for j in range(nb_customers)]) <= capacity[i]*z[i])  # Contraintes (3)"
   ]
  },
  {
   "cell_type": "markdown",
   "metadata": {},
   "source": [
    "On peut écrire le modèle `model` que l'on a généré dans un fichier en utilisant la fonction `write`."
   ]
  },
  {
   "cell_type": "code",
   "execution_count": null,
   "metadata": {},
   "outputs": [],
   "source": [
    "# Ecrire le modèle (ATTENTION ici le modèle est très grand)\n",
    "#model.write(\"cwfl.lp\") #à décommenter si vous le souhaitez"
   ]
  },
  {
   "cell_type": "markdown",
   "metadata": {},
   "source": [
    "Il nous reste plus qu'à lancer la résolution de notre programme linéaire `model` en appelant la fonction `optimize`."
   ]
  },
  {
   "cell_type": "code",
   "execution_count": null,
   "metadata": {},
   "outputs": [],
   "source": [
    "# Limitation du nombre de processeurs\n",
    "model.threads = 1  \n",
    "\n",
    "# Lancement du chronomètre\n",
    "start = time.perf_counter()\n",
    "\n",
    "# Résolution du modèle\n",
    "status = model.optimize(max_seconds=120)  # temps limite = 120s\n",
    "\n",
    "# Arrêt du chronomètre et calcul du temps de résolution\n",
    "runtime = time.perf_counter() - start\n"
   ]
  },
  {
   "cell_type": "markdown",
   "metadata": {},
   "source": [
    "Avant de chercher à récupérer le résultat, on vérifie le status de la solution retournée par le solveur.\n",
    "\n",
    "Il ne reste plus qu'à récupérer la solution obtenue (valeur des variables et de l'objectif) et à l'afficher."
   ]
  },
  {
   "cell_type": "code",
   "execution_count": null,
   "metadata": {},
   "outputs": [],
   "source": [
    "print(\"\\n----------------------------------\")\n",
    "if status == OptimizationStatus.OPTIMAL:\n",
    "    print(\"Status de la résolution: OPTIMAL\")\n",
    "elif status == OptimizationStatus.FEASIBLE:\n",
    "    print(\"Status de la résolution: TEMPS LIMITE et SOLUTION REALISABLE CALCULEE\")\n",
    "elif status == OptimizationStatus.NO_SOLUTION_FOUND:\n",
    "    print(\"Status de la résolution: TEMPS LIMITE et AUCUNE SOLUTION CALCULEE\")\n",
    "elif status == OptimizationStatus.INFEASIBLE or status == OptimizationStatus.INT_INFEASIBLE:\n",
    "    print(\"Status de la résolution: IRREALISABLE\")\n",
    "elif status == OptimizationStatus.UNBOUNDED:\n",
    "    print(\"Status de la résolution: NON BORNE\")\n",
    "    \n",
    "print(\"Temps de résolution (s) : \", runtime)\n",
    "print(\"----------------------------------\")\n",
    "\n",
    "# Si le modèle a été résolu à l'optimalité ou si une solution a été trouvée dans le temps limite accordé\n",
    "if model.num_solutions>0:\n",
    "    print(\"Solution calculée\")\n",
    "    print(\"-> Valeur de la fonction objectif de la solution calculée : \",  model.objective_value)  # ne pas oublier d'arrondir si le coût doit être entier\n",
    "    print(\"-> Meilleure borne inférieure sur la valeur de la fonction objectif = \", model.objective_bound)\n",
    "    for i in range(nb_warehouses):\n",
    "        if (z[i].x >= 0.5):\n",
    "            print(\"- L'entrepôt \",i , \" est ouvert [capacité = \", capacity[i], \"] et les clients suivants lui sont affectés\")\n",
    "            for j in range(nb_customers):\n",
    "                if (y[j][i].x >= 1e-4):\n",
    "                    print(\"\\t Client \",j, \" pour \", round(y[j][i].x * 100,1), \" % de sa demande -> \",round(y[j][i].x * demand[j],1))\n",
    "else:\n",
    "    print(\"Pas de solution calculée\")\n",
    "print(\"----------------------------------\\n\")\n",
    "\n"
   ]
  },
  {
   "cell_type": "markdown",
   "metadata": {},
   "source": [
    "## Ecriture du résultat dans un fichier\n",
    "\n",
    "Si une solution a été calculée, on l'écrit dans un fichier dans le format suivant (arbitraire) facile à lire.  \n",
    "_#Ligne 1_  \n",
    "Valeur de la solution  \n",
    "_#Pour chaque entrepôt ouvert_  \n",
    "Numéro de l'entrepôt ouvert  \n",
    "_#Pour chaque client affecté à cet entrepôt_  \n",
    "Numéro du client et pourcentage de la demande de ce client satisfait par l'entrepôt  \n",
    "\n",
    "**NB : Si vous écrivez dans le fichier, alors qu'il est ouvert dans un onglet de Jupyter, alors il faut le fermer et le rouvrir pour voir les changements apparaître.**"
   ]
  },
  {
   "cell_type": "code",
   "execution_count": null,
   "metadata": {},
   "outputs": [],
   "source": [
    "if model.num_solutions>0: # Si une solution a été calculée\n",
    "    solutionfileName = 'solution_cap41.txt'\n",
    "    with open(solutionfileName, 'w') as file:  #ouvre le fichier, le ferme automatiquement à la fin et gère les exceptions\n",
    "        file.write(str(model.objective_value)) #Il faut convertir les valeurs numériques en chaîne de caractères\n",
    "        file.write(\"\\n\") #Je passe à la ligne suivante\n",
    "        for i in range(nb_warehouses):\n",
    "            if (z[i].x >= 0.5):\n",
    "                file.write(str(i)) \n",
    "                file.write(\"\\n\") #Je passe à la ligne suivante\n",
    "                for j in range(nb_customers):\n",
    "                    if (y[j][i].x >= 1e-4):\n",
    "                        file.write(str(j)+\" \"+str(round(y[j][i].x * 100,2)))\n",
    "                        file.write(\"\\n\") #Je passe à la ligne suivante"
   ]
  }
 ],
 "metadata": {
  "kernelspec": {
   "display_name": "Python 3",
   "language": "python",
   "name": "python3"
  },
  "language_info": {
   "codemirror_mode": {
    "name": "ipython",
    "version": 3
   },
   "file_extension": ".py",
   "mimetype": "text/x-python",
   "name": "python",
   "nbconvert_exporter": "python",
   "pygments_lexer": "ipython3",
   "version": "3.8.5"
  },
  "toc-showcode": false,
  "toc-showmarkdowntxt": false
 },
 "nbformat": 4,
 "nbformat_minor": 4
}
